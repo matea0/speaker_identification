{
  "metadata": {
    "kernelspec": {
      "display_name": "Python 3",
      "name": "python3"
    },
    "language_info": {
      "name": "python",
      "version": "3.7.12",
      "mimetype": "text/x-python",
      "codemirror_mode": {
        "name": "ipython",
        "version": 3
      },
      "pygments_lexer": "ipython3",
      "nbconvert_exporter": "python",
      "file_extension": ".py"
    },
    "colab": {
      "provenance": [],
      "gpuType": "T4"
    },
    "accelerator": "GPU"
  },
  "nbformat_minor": 0,
  "nbformat": 4,
  "cells": [
    {
      "cell_type": "markdown",
      "source": [
        "#Identifikacija govornika pomoću konvolucijske neuronske mreže\n"
      ],
      "metadata": {
        "id": "s1xTjeI9qh7C"
      }
    },
    {
      "cell_type": "code",
      "source": [
        "import tensorflow as tf\n",
        "import os\n",
        "from os.path import isfile, join\n",
        "import numpy as np\n",
        "import shutil\n",
        "from tensorflow import keras\n",
        "from pathlib import Path\n",
        "from IPython.display import display, Audio\n",
        "import subprocess"
      ],
      "metadata": {
        "_uuid": "8f2839f25d086af736a60e9eeb907d3b93b6e0e5",
        "_cell_guid": "b1076dfc-b9ad-4769-8c92-a6c4dae69d19",
        "execution": {
          "iopub.status.busy": "2022-07-24T08:11:44.543736Z",
          "iopub.execute_input": "2022-07-24T08:11:44.544068Z",
          "iopub.status.idle": "2022-07-24T08:11:48.831735Z",
          "shell.execute_reply.started": "2022-07-24T08:11:44.543996Z",
          "shell.execute_reply": "2022-07-24T08:11:48.831000Z"
        },
        "trusted": true,
        "id": "ul0QH3XGkViY"
      },
      "execution_count": 1,
      "outputs": []
    },
    {
      "cell_type": "markdown",
      "source": [
        "##Preprocesiranje"
      ],
      "metadata": {
        "id": "MeQJp-crrzRP"
      }
    },
    {
      "cell_type": "markdown",
      "source": [
        "###Dohvaćanje direktorija"
      ],
      "metadata": {
        "id": "XqpQnfa6kVii"
      }
    },
    {
      "cell_type": "code",
      "source": [
        "from google.colab import drive\n",
        "drive.mount('/content/drive')"
      ],
      "metadata": {
        "id": "fjrDwGRakex_",
        "colab": {
          "base_uri": "https://localhost:8080/"
        },
        "outputId": "7423b3aa-6e42-40c5-b6f9-71d3e97fc673"
      },
      "execution_count": 2,
      "outputs": [
        {
          "output_type": "stream",
          "name": "stdout",
          "text": [
            "Mounted at /content/drive\n"
          ]
        }
      ]
    },
    {
      "cell_type": "code",
      "source": [
        "data_directory = \"/content/drive/MyDrive/SpeakerIdentification/16000_pcm_speeches\"\n",
        "audio_folder = \"audio\"\n",
        "noise_folder = \"noise\"\n",
        "\n",
        "audio_path = os.path.join(data_directory, audio_folder)\n",
        "noise_path = os.path.join(data_directory, noise_folder)"
      ],
      "metadata": {
        "execution": {
          "iopub.status.busy": "2022-07-24T08:12:14.485068Z",
          "iopub.execute_input": "2022-07-24T08:12:14.485309Z",
          "iopub.status.idle": "2022-07-24T08:12:14.490889Z",
          "shell.execute_reply.started": "2022-07-24T08:12:14.485281Z",
          "shell.execute_reply": "2022-07-24T08:12:14.490202Z"
        },
        "trusted": true,
        "id": "y-Bq_HZrkVij"
      },
      "execution_count": 3,
      "outputs": []
    },
    {
      "cell_type": "code",
      "source": [
        "audio_path"
      ],
      "metadata": {
        "execution": {
          "iopub.status.busy": "2022-07-24T08:12:14.493406Z",
          "iopub.execute_input": "2022-07-24T08:12:14.493844Z",
          "iopub.status.idle": "2022-07-24T08:12:14.505280Z",
          "shell.execute_reply.started": "2022-07-24T08:12:14.493806Z",
          "shell.execute_reply": "2022-07-24T08:12:14.504194Z"
        },
        "trusted": true,
        "id": "LZ2r0LAGkVij",
        "outputId": "cd8b86cb-6a32-4d40-e551-ae76f4f6bb78",
        "colab": {
          "base_uri": "https://localhost:8080/",
          "height": 35
        }
      },
      "execution_count": 4,
      "outputs": [
        {
          "output_type": "execute_result",
          "data": {
            "text/plain": [
              "'/content/drive/MyDrive/SpeakerIdentification/16000_pcm_speeches/audio'"
            ],
            "application/vnd.google.colaboratory.intrinsic+json": {
              "type": "string"
            }
          },
          "metadata": {},
          "execution_count": 4
        }
      ]
    },
    {
      "cell_type": "markdown",
      "source": [
        "###Postavljanje parametara za treniranje modela"
      ],
      "metadata": {
        "id": "DXjTE_MekVil"
      }
    },
    {
      "cell_type": "code",
      "source": [
        "valid_split = 0.1\n",
        "\n",
        "shuffle_seed = 43\n",
        "\n",
        "sample_rate = 16000\n",
        "\n",
        "scale = 0.5\n",
        "\n",
        "batch_size = 128\n",
        "\n",
        "epochs = 12"
      ],
      "metadata": {
        "execution": {
          "iopub.status.busy": "2022-07-24T08:12:14.508303Z",
          "iopub.execute_input": "2022-07-24T08:12:14.508557Z",
          "iopub.status.idle": "2022-07-24T08:12:14.513162Z",
          "shell.execute_reply.started": "2022-07-24T08:12:14.508524Z",
          "shell.execute_reply": "2022-07-24T08:12:14.512396Z"
        },
        "trusted": true,
        "id": "Geq7a0DMkVil"
      },
      "execution_count": 5,
      "outputs": []
    },
    {
      "cell_type": "markdown",
      "source": [
        "###Dohvaćanje zvukova i šuma"
      ],
      "metadata": {
        "id": "Ip3TtUzukVim"
      }
    },
    {
      "cell_type": "code",
      "source": [
        "for folder in os.listdir(data_directory):\n",
        "    if os.path.isdir(os.path.join(data_directory, folder)):\n",
        "        if folder in [audio_folder, noise_folder]:\n",
        "\n",
        "            continue\n",
        "        elif folder in [\"other\", \"_background_noise_\"]:\n",
        "\n",
        "            shutil.move(\n",
        "                os.path.join(data_directory, folder),\n",
        "                os.path.join(noise_path, folder),\n",
        "            )\n",
        "        else:\n",
        "            shutil.move(\n",
        "                os.path.join(data_directory, folder),\n",
        "                os.path.join(audio_path, folder),\n",
        "            )\n"
      ],
      "metadata": {
        "execution": {
          "iopub.status.busy": "2022-07-24T08:12:14.514385Z",
          "iopub.execute_input": "2022-07-24T08:12:14.514828Z",
          "iopub.status.idle": "2022-07-24T08:12:14.773541Z",
          "shell.execute_reply.started": "2022-07-24T08:12:14.514654Z",
          "shell.execute_reply": "2022-07-24T08:12:14.772759Z"
        },
        "trusted": true,
        "id": "jm49-UYJkVim"
      },
      "execution_count": 6,
      "outputs": []
    },
    {
      "cell_type": "markdown",
      "source": [
        "###Lista svih datoteka sa šumom"
      ],
      "metadata": {
        "id": "Vq3yYDwkkVin"
      }
    },
    {
      "cell_type": "code",
      "source": [
        "noise_paths = []\n",
        "for subdir in os.listdir(noise_path):\n",
        "    subdir_path = Path(noise_path) / subdir\n",
        "    if os.path.isdir(subdir_path):\n",
        "        noise_paths += [\n",
        "            os.path.join(subdir_path, filepath)\n",
        "            for filepath in os.listdir(subdir_path)\n",
        "            if filepath.endswith(\".wav\")\n",
        "        ]"
      ],
      "metadata": {
        "execution": {
          "iopub.status.busy": "2022-07-24T08:12:14.775051Z",
          "iopub.execute_input": "2022-07-24T08:12:14.775331Z",
          "iopub.status.idle": "2022-07-24T08:12:14.780925Z",
          "shell.execute_reply.started": "2022-07-24T08:12:14.775292Z",
          "shell.execute_reply": "2022-07-24T08:12:14.780226Z"
        },
        "trusted": true,
        "id": "yH5OwatSkVin"
      },
      "execution_count": 7,
      "outputs": []
    },
    {
      "cell_type": "code",
      "source": [
        "noise_paths"
      ],
      "metadata": {
        "execution": {
          "iopub.status.busy": "2022-07-24T08:12:14.782568Z",
          "iopub.execute_input": "2022-07-24T08:12:14.783215Z",
          "iopub.status.idle": "2022-07-24T08:12:14.795661Z",
          "shell.execute_reply.started": "2022-07-24T08:12:14.783178Z",
          "shell.execute_reply": "2022-07-24T08:12:14.794878Z"
        },
        "trusted": true,
        "id": "QECH0HgkkVin",
        "outputId": "c918e1c6-1994-4336-c5b8-4de51fafecb8",
        "colab": {
          "base_uri": "https://localhost:8080/"
        }
      },
      "execution_count": 8,
      "outputs": [
        {
          "output_type": "execute_result",
          "data": {
            "text/plain": [
              "['/content/drive/MyDrive/SpeakerIdentification/16000_pcm_speeches/noise/other/exercise_bike.wav',\n",
              " '/content/drive/MyDrive/SpeakerIdentification/16000_pcm_speeches/noise/other/pink_noise.wav',\n",
              " '/content/drive/MyDrive/SpeakerIdentification/16000_pcm_speeches/noise/_background_noise_/10convert.com_Audience-Claps_daSG5fwdA7o.wav',\n",
              " '/content/drive/MyDrive/SpeakerIdentification/16000_pcm_speeches/noise/_background_noise_/dude_miaowing.wav',\n",
              " '/content/drive/MyDrive/SpeakerIdentification/16000_pcm_speeches/noise/_background_noise_/running_tap.wav',\n",
              " '/content/drive/MyDrive/SpeakerIdentification/16000_pcm_speeches/noise/_background_noise_/doing_the_dishes.wav']"
            ]
          },
          "metadata": {},
          "execution_count": 8
        }
      ]
    },
    {
      "cell_type": "markdown",
      "source": [
        "###Podjela šumova u chunkove s 16 000 koraka"
      ],
      "metadata": {
        "id": "DQsYqhi4kVio"
      }
    },
    {
      "cell_type": "code",
      "source": [
        "command = (\n",
        "    \"for dir in `ls -1 \" + noise_path + \"`; do \"\n",
        "    \"for file in `ls -1 \" + noise_path + \"/$dir/*.wav`; do \"\n",
        "    \"sample_rate=`ffprobe -hide_banner -loglevel panic -show_streams \"\n",
        "    \"$file | grep sample_rate | cut -f2 -d=`; \"\n",
        "    \"if [ $sample_rate -ne 16000 ]; then \"\n",
        "    \"ffmpeg -hide_banner -loglevel panic -y \"\n",
        "    \"-i $file -ar 16000 temp.wav; \"\n",
        "    \"mv temp.wav $file; \"\n",
        "    \"fi; done; done\"\n",
        ")"
      ],
      "metadata": {
        "execution": {
          "iopub.status.busy": "2022-07-24T08:12:14.798024Z",
          "iopub.execute_input": "2022-07-24T08:12:14.798304Z",
          "iopub.status.idle": "2022-07-24T08:12:14.804990Z",
          "shell.execute_reply.started": "2022-07-24T08:12:14.798269Z",
          "shell.execute_reply": "2022-07-24T08:12:14.804282Z"
        },
        "trusted": true,
        "id": "uXGbVkz5kVip"
      },
      "execution_count": 9,
      "outputs": []
    },
    {
      "cell_type": "code",
      "source": [
        "os.system(command)\n",
        "def load_noise_sample(path):\n",
        "    sample, sampling_rate = tf.audio.decode_wav(\n",
        "        tf.io.read_file(path), desired_channels=1\n",
        "    )\n",
        "    if sampling_rate == sample_rate:\n",
        "        slices = int(sample.shape[0] / sample_rate)\n",
        "        sample = tf.split(sample[: slices * sample_rate], slices)\n",
        "        return sample\n",
        "    else:\n",
        "        print(\"Sampling rate for\",path, \"is incorrect\")\n",
        "        return None\n",
        "\n",
        "\n",
        "noises = []\n",
        "for path in noise_paths:\n",
        "    sample = load_noise_sample(path)\n",
        "    if sample:\n",
        "        noises.extend(sample)\n",
        "noises = tf.stack(noises)"
      ],
      "metadata": {
        "execution": {
          "iopub.status.busy": "2022-07-24T08:12:14.807494Z",
          "iopub.execute_input": "2022-07-24T08:12:14.808365Z",
          "iopub.status.idle": "2022-07-24T08:12:18.988865Z",
          "shell.execute_reply.started": "2022-07-24T08:12:14.808328Z",
          "shell.execute_reply": "2022-07-24T08:12:18.987279Z"
        },
        "trusted": true,
        "id": "uwxlpWCykVir"
      },
      "execution_count": 10,
      "outputs": []
    },
    {
      "cell_type": "markdown",
      "source": [
        "##Generiranje skupa podataka"
      ],
      "metadata": {
        "id": "V3VzLn5okVis"
      }
    },
    {
      "cell_type": "code",
      "source": [
        "def paths_and_labels_to_dataset(audio_paths, labels):\n",
        "    path_ds = tf.data.Dataset.from_tensor_slices(audio_paths)\n",
        "    audio_ds = path_ds.map(lambda x: path_to_audio(x))\n",
        "    label_ds = tf.data.Dataset.from_tensor_slices(labels)\n",
        "    return tf.data.Dataset.zip((audio_ds, label_ds))"
      ],
      "metadata": {
        "execution": {
          "iopub.status.busy": "2022-07-24T08:12:18.990222Z",
          "iopub.execute_input": "2022-07-24T08:12:18.990523Z",
          "iopub.status.idle": "2022-07-24T08:12:18.996561Z",
          "shell.execute_reply.started": "2022-07-24T08:12:18.990487Z",
          "shell.execute_reply": "2022-07-24T08:12:18.995137Z"
        },
        "trusted": true,
        "id": "He1uRuCKkVis"
      },
      "execution_count": 11,
      "outputs": []
    },
    {
      "cell_type": "code",
      "source": [
        "def path_to_audio(path):\n",
        "    audio = tf.io.read_file(path)\n",
        "    audio, _ = tf.audio.decode_wav(audio, 1, sample_rate)\n",
        "    return audio"
      ],
      "metadata": {
        "execution": {
          "iopub.status.busy": "2022-07-24T08:12:18.998030Z",
          "iopub.execute_input": "2022-07-24T08:12:18.998536Z",
          "iopub.status.idle": "2022-07-24T08:12:19.006524Z",
          "shell.execute_reply.started": "2022-07-24T08:12:18.998500Z",
          "shell.execute_reply": "2022-07-24T08:12:19.005683Z"
        },
        "trusted": true,
        "id": "3u029MyWkVis"
      },
      "execution_count": 12,
      "outputs": []
    },
    {
      "cell_type": "markdown",
      "source": [
        "###Dodavanje šumova u skup podataka"
      ],
      "metadata": {
        "id": "87w3YZcqkVis"
      }
    },
    {
      "cell_type": "code",
      "source": [
        "def add_noise(audio, noises=None, scale=0.5):\n",
        "    if noises is not None:\n",
        "        tf_rnd = tf.random.uniform(\n",
        "            (tf.shape(audio)[0],), 0, noises.shape[0], dtype=tf.int32\n",
        "        )\n",
        "        noise = tf.gather(noises, tf_rnd, axis=0)\n",
        "\n",
        "        prop = tf.math.reduce_max(audio, axis=1) / tf.math.reduce_max(noise, axis=1)\n",
        "        prop = tf.repeat(tf.expand_dims(prop, axis=1), tf.shape(audio)[1], axis=1)\n",
        "\n",
        "        audio = audio + noise * prop * scale\n",
        "\n",
        "    return audio"
      ],
      "metadata": {
        "execution": {
          "iopub.status.busy": "2022-07-24T08:12:19.007544Z",
          "iopub.execute_input": "2022-07-24T08:12:19.007889Z",
          "iopub.status.idle": "2022-07-24T08:12:19.017411Z",
          "shell.execute_reply.started": "2022-07-24T08:12:19.007852Z",
          "shell.execute_reply": "2022-07-24T08:12:19.016620Z"
        },
        "trusted": true,
        "id": "08xRgUahkVis"
      },
      "execution_count": 13,
      "outputs": []
    },
    {
      "cell_type": "code",
      "source": [
        "def audio_to_fft(audio):\n",
        "    audio = tf.squeeze(audio, axis=-1)\n",
        "    fft = tf.signal.fft(\n",
        "        tf.cast(tf.complex(real=audio, imag=tf.zeros_like(audio)), tf.complex64)\n",
        "    )\n",
        "    fft = tf.expand_dims(fft, axis=-1)\n",
        "\n",
        "    return tf.math.abs(fft[:, : (audio.shape[1] // 2), :])"
      ],
      "metadata": {
        "execution": {
          "iopub.status.busy": "2022-07-24T08:12:19.018523Z",
          "iopub.execute_input": "2022-07-24T08:12:19.018829Z",
          "iopub.status.idle": "2022-07-24T08:12:19.026997Z",
          "shell.execute_reply.started": "2022-07-24T08:12:19.018793Z",
          "shell.execute_reply": "2022-07-24T08:12:19.026264Z"
        },
        "trusted": true,
        "id": "HRfsrasYkVit"
      },
      "execution_count": 14,
      "outputs": []
    },
    {
      "cell_type": "code",
      "source": [
        "class_names = os.listdir(audio_path)\n",
        "print(class_names,)\n",
        "\n",
        "audio_paths = []\n",
        "labels = []\n",
        "for label, name in enumerate(class_names):\n",
        "    print(\"Speaker:\",(name.replace(\"_\", \" \")))\n",
        "    dir_path = Path(audio_path) / name\n",
        "    speaker_sample_paths = [\n",
        "        os.path.join(dir_path, filepath)\n",
        "        for filepath in os.listdir(dir_path)\n",
        "        if filepath.endswith(\".wav\")\n",
        "    ]\n",
        "    audio_paths += speaker_sample_paths\n",
        "    labels += [label] * len(speaker_sample_paths)"
      ],
      "metadata": {
        "execution": {
          "iopub.status.busy": "2022-07-24T08:12:19.028318Z",
          "iopub.execute_input": "2022-07-24T08:12:19.028556Z",
          "iopub.status.idle": "2022-07-24T08:12:19.062107Z",
          "shell.execute_reply.started": "2022-07-24T08:12:19.028520Z",
          "shell.execute_reply": "2022-07-24T08:12:19.061452Z"
        },
        "trusted": true,
        "id": "OZPPNKNrkVit",
        "outputId": "999d812a-07f3-4b3d-ece3-955458015bd4",
        "colab": {
          "base_uri": "https://localhost:8080/"
        }
      },
      "execution_count": 15,
      "outputs": [
        {
          "output_type": "stream",
          "name": "stdout",
          "text": [
            "['Nelson_Mandela', 'Benjamin_Netanyau', 'Jens_Stoltenberg', 'Julia_Gillard', 'Magaret_Tarcher']\n",
            "Speaker: Nelson Mandela\n",
            "Speaker: Benjamin Netanyau\n",
            "Speaker: Jens Stoltenberg\n",
            "Speaker: Julia Gillard\n",
            "Speaker: Magaret Tarcher\n"
          ]
        }
      ]
    },
    {
      "cell_type": "markdown",
      "source": [
        "###Shuffleanje za generiranje random podataka"
      ],
      "metadata": {
        "id": "1b3QwyYrpsZ2"
      }
    },
    {
      "cell_type": "code",
      "source": [
        "rng = np.random.RandomState(shuffle_seed)\n",
        "rng.shuffle(audio_paths)\n",
        "rng = np.random.RandomState(shuffle_seed)\n",
        "rng.shuffle(labels)"
      ],
      "metadata": {
        "execution": {
          "iopub.status.busy": "2022-07-24T08:12:19.063172Z",
          "iopub.execute_input": "2022-07-24T08:12:19.063418Z",
          "iopub.status.idle": "2022-07-24T08:12:19.069765Z",
          "shell.execute_reply.started": "2022-07-24T08:12:19.063387Z",
          "shell.execute_reply": "2022-07-24T08:12:19.069043Z"
        },
        "trusted": true,
        "id": "ba-kauAvkVit"
      },
      "execution_count": 16,
      "outputs": []
    },
    {
      "cell_type": "markdown",
      "source": [
        "##Podjela na treniranje i validaciju"
      ],
      "metadata": {
        "id": "JT0DkQRapuY5"
      }
    },
    {
      "cell_type": "code",
      "source": [
        "num_val_samples = int(valid_split * len(audio_paths))\n",
        "train_audio_paths = audio_paths[:-num_val_samples]\n",
        "train_labels = labels[:-num_val_samples]\n",
        "\n",
        "\n",
        "valid_audio_paths = audio_paths[-num_val_samples:]\n",
        "valid_labels = labels[-num_val_samples:]"
      ],
      "metadata": {
        "execution": {
          "iopub.status.busy": "2022-07-24T08:12:19.071176Z",
          "iopub.execute_input": "2022-07-24T08:12:19.071690Z",
          "iopub.status.idle": "2022-07-24T08:12:19.078503Z",
          "shell.execute_reply.started": "2022-07-24T08:12:19.071656Z",
          "shell.execute_reply": "2022-07-24T08:12:19.077808Z"
        },
        "trusted": true,
        "id": "A2gJ1nMskVit"
      },
      "execution_count": 17,
      "outputs": []
    },
    {
      "cell_type": "markdown",
      "source": [
        "###Kreiranje skupova podataka za treniranje i validaciju"
      ],
      "metadata": {
        "id": "ZD4yniKcpwUq"
      }
    },
    {
      "cell_type": "code",
      "source": [
        "train_ds = paths_and_labels_to_dataset(train_audio_paths, train_labels)\n",
        "train_ds = train_ds.shuffle(buffer_size=batch_size * 8, seed=shuffle_seed).batch(\n",
        "    batch_size\n",
        ")\n",
        "\n",
        "valid_ds = paths_and_labels_to_dataset(valid_audio_paths, valid_labels)\n",
        "valid_ds = valid_ds.shuffle(buffer_size=32 * 8, seed=shuffle_seed).batch(32)"
      ],
      "metadata": {
        "execution": {
          "iopub.status.busy": "2022-07-24T08:12:19.079909Z",
          "iopub.execute_input": "2022-07-24T08:12:19.080178Z",
          "iopub.status.idle": "2022-07-24T08:12:19.251603Z",
          "shell.execute_reply.started": "2022-07-24T08:12:19.080144Z",
          "shell.execute_reply": "2022-07-24T08:12:19.250920Z"
        },
        "trusted": true,
        "id": "PYfqjt6ekViu"
      },
      "execution_count": 18,
      "outputs": []
    },
    {
      "cell_type": "markdown",
      "source": [
        "##Izdvajanje značajki"
      ],
      "metadata": {
        "id": "qXcz3jXSkViu"
      }
    },
    {
      "cell_type": "code",
      "source": [
        "# Add noise to the training set\n",
        "train_ds = train_ds.map(\n",
        "    lambda x, y: (add_noise(x, noises, scale=scale), y),\n",
        "    num_parallel_calls=tf.data.experimental.AUTOTUNE,\n",
        ")\n",
        "\n",
        "# Transform audio wave to the frequency domain using `audio_to_fft`\n",
        "train_ds = train_ds.map(\n",
        "    lambda x, y: (audio_to_fft(x), y), num_parallel_calls=tf.data.experimental.AUTOTUNE\n",
        ")\n",
        "\n",
        "train_ds = train_ds.prefetch(tf.data.experimental.AUTOTUNE)\n",
        "\n",
        "valid_ds = valid_ds.map(\n",
        "    lambda x, y: (audio_to_fft(x), y), num_parallel_calls=tf.data.experimental.AUTOTUNE\n",
        ")\n",
        "valid_ds = valid_ds.prefetch(tf.data.experimental.AUTOTUNE)"
      ],
      "metadata": {
        "execution": {
          "iopub.status.busy": "2022-07-24T08:12:19.252896Z",
          "iopub.execute_input": "2022-07-24T08:12:19.253135Z",
          "iopub.status.idle": "2022-07-24T08:12:19.535814Z",
          "shell.execute_reply.started": "2022-07-24T08:12:19.253102Z",
          "shell.execute_reply": "2022-07-24T08:12:19.535111Z"
        },
        "trusted": true,
        "id": "gVNPdbyNkViu"
      },
      "execution_count": 19,
      "outputs": []
    },
    {
      "cell_type": "markdown",
      "source": [
        "##Model"
      ],
      "metadata": {
        "id": "vpIJYKUGkViv"
      }
    },
    {
      "cell_type": "code",
      "source": [
        "from keras.layers import Conv1D"
      ],
      "metadata": {
        "execution": {
          "iopub.status.busy": "2022-07-24T08:12:19.537250Z",
          "iopub.execute_input": "2022-07-24T08:12:19.537510Z",
          "iopub.status.idle": "2022-07-24T08:12:20.602545Z",
          "shell.execute_reply.started": "2022-07-24T08:12:19.537476Z",
          "shell.execute_reply": "2022-07-24T08:12:20.601661Z"
        },
        "trusted": true,
        "id": "ZYiTXeb1kViv"
      },
      "execution_count": 20,
      "outputs": []
    },
    {
      "cell_type": "code",
      "source": [
        "def residual_block(x, filters, conv_num = 3, activation = \"relu\"):\n",
        "    s = keras.layers.Conv1D(filters, 1, padding = \"same\")(x)\n",
        "\n",
        "    for i in range(conv_num - 1):\n",
        "        x = keras.layers.Conv1D(filters, 3, padding = \"same\")(x)\n",
        "        x = keras.layers.Activation(activation)(x)\n",
        "\n",
        "    x = keras.layers.Conv1D(filters, 3, padding = \"same\")(x)\n",
        "    x = keras.layers.Add()([x, s])\n",
        "    x = keras.layers.Activation(activation)(x)\n",
        "\n",
        "    return keras.layers.MaxPool1D(pool_size = 2, strides = 2)(x)\n",
        "\n",
        "def build_model(input_shape, num_classes):\n",
        "    inputs = keras.layers.Input(shape = input_shape, name = \"input\")\n",
        "\n",
        "    x = residual_block(inputs, 16, 2)\n",
        "    x = residual_block(inputs, 32, 2)\n",
        "    x = residual_block(inputs, 64, 3)\n",
        "    x = residual_block(inputs, 128, 3)\n",
        "    x = residual_block(inputs, 128, 3)\n",
        "    x = keras.layers.AveragePooling1D(pool_size=3, strides=3)(x)\n",
        "    x = keras.layers.Flatten()(x)\n",
        "    x = keras.layers.Dense(256, activation=\"relu\")(x)\n",
        "    x = keras.layers.Dense(128, activation=\"relu\")(x)\n",
        "\n",
        "    outputs = keras.layers.Dense(num_classes, activation = \"softmax\", name = \"output\")(x)\n",
        "\n",
        "    return keras.models.Model(inputs = inputs, outputs = outputs)\n",
        "\n",
        "model = build_model((sample_rate // 2, 1), len(class_names))\n",
        "\n",
        "model.summary()\n",
        "\n",
        "model.compile(optimizer=\"Adam\", loss=\"sparse_categorical_crossentropy\", metrics=[\"accuracy\"])\n",
        "\n",
        "model_save_filename = \"model.h5\"\n",
        "\n",
        "earlystopping_cb = keras.callbacks.EarlyStopping(patience=10, restore_best_weights=True)\n",
        "\n",
        "mdlcheckpoint_cb = keras.callbacks.ModelCheckpoint(model_save_filename, monitor=\"val_accuracy\", save_best_only=True)"
      ],
      "metadata": {
        "execution": {
          "iopub.status.busy": "2022-07-24T08:12:20.604006Z",
          "iopub.execute_input": "2022-07-24T08:12:20.604266Z",
          "iopub.status.idle": "2022-07-24T08:12:20.885822Z",
          "shell.execute_reply.started": "2022-07-24T08:12:20.604213Z",
          "shell.execute_reply": "2022-07-24T08:12:20.885000Z"
        },
        "trusted": true,
        "id": "2Qs2HEuvkViv",
        "outputId": "0d115c1b-6646-407b-ffee-8e976bebc5a3",
        "colab": {
          "base_uri": "https://localhost:8080/"
        }
      },
      "execution_count": 21,
      "outputs": [
        {
          "output_type": "stream",
          "name": "stdout",
          "text": [
            "Model: \"model\"\n",
            "__________________________________________________________________________________________________\n",
            " Layer (type)                   Output Shape         Param #     Connected to                     \n",
            "==================================================================================================\n",
            " input (InputLayer)             [(None, 8000, 1)]    0           []                               \n",
            "                                                                                                  \n",
            " conv1d_15 (Conv1D)             (None, 8000, 128)    512         ['input[0][0]']                  \n",
            "                                                                                                  \n",
            " activation_10 (Activation)     (None, 8000, 128)    0           ['conv1d_15[0][0]']              \n",
            "                                                                                                  \n",
            " conv1d_16 (Conv1D)             (None, 8000, 128)    49280       ['activation_10[0][0]']          \n",
            "                                                                                                  \n",
            " activation_11 (Activation)     (None, 8000, 128)    0           ['conv1d_16[0][0]']              \n",
            "                                                                                                  \n",
            " conv1d_17 (Conv1D)             (None, 8000, 128)    49280       ['activation_11[0][0]']          \n",
            "                                                                                                  \n",
            " conv1d_14 (Conv1D)             (None, 8000, 128)    256         ['input[0][0]']                  \n",
            "                                                                                                  \n",
            " add_4 (Add)                    (None, 8000, 128)    0           ['conv1d_17[0][0]',              \n",
            "                                                                  'conv1d_14[0][0]']              \n",
            "                                                                                                  \n",
            " activation_12 (Activation)     (None, 8000, 128)    0           ['add_4[0][0]']                  \n",
            "                                                                                                  \n",
            " max_pooling1d_4 (MaxPooling1D)  (None, 4000, 128)   0           ['activation_12[0][0]']          \n",
            "                                                                                                  \n",
            " average_pooling1d (AveragePool  (None, 1333, 128)   0           ['max_pooling1d_4[0][0]']        \n",
            " ing1D)                                                                                           \n",
            "                                                                                                  \n",
            " flatten (Flatten)              (None, 170624)       0           ['average_pooling1d[0][0]']      \n",
            "                                                                                                  \n",
            " dense (Dense)                  (None, 256)          43680000    ['flatten[0][0]']                \n",
            "                                                                                                  \n",
            " dense_1 (Dense)                (None, 128)          32896       ['dense[0][0]']                  \n",
            "                                                                                                  \n",
            " output (Dense)                 (None, 5)            645         ['dense_1[0][0]']                \n",
            "                                                                                                  \n",
            "==================================================================================================\n",
            "Total params: 43,812,869\n",
            "Trainable params: 43,812,869\n",
            "Non-trainable params: 0\n",
            "__________________________________________________________________________________________________\n"
          ]
        }
      ]
    },
    {
      "cell_type": "markdown",
      "source": [
        "###Treniranje modela"
      ],
      "metadata": {
        "id": "i3VlmYLIkViw"
      }
    },
    {
      "cell_type": "code",
      "source": [
        "history = model.fit(\n",
        "    train_ds,\n",
        "    epochs=epochs,\n",
        "    validation_data=valid_ds,\n",
        "    callbacks=[earlystopping_cb, mdlcheckpoint_cb],\n",
        ")"
      ],
      "metadata": {
        "execution": {
          "iopub.status.busy": "2022-07-24T08:12:20.887062Z",
          "iopub.execute_input": "2022-07-24T08:12:20.887363Z",
          "iopub.status.idle": "2022-07-24T08:30:44.325948Z",
          "shell.execute_reply.started": "2022-07-24T08:12:20.887324Z",
          "shell.execute_reply": "2022-07-24T08:30:44.324977Z"
        },
        "trusted": true,
        "id": "lM4cAn9CkViw",
        "outputId": "df25857b-f6e5-4591-c3b4-696e819f968f",
        "colab": {
          "base_uri": "https://localhost:8080/"
        }
      },
      "execution_count": 22,
      "outputs": [
        {
          "output_type": "stream",
          "name": "stdout",
          "text": [
            "Epoch 1/12\n",
            "49/49 [==============================] - 1936s 33s/step - loss: 23.4933 - accuracy: 0.4427 - val_loss: 0.7111 - val_accuracy: 0.7721\n",
            "Epoch 2/12\n",
            "49/49 [==============================] - 40s 771ms/step - loss: 0.4087 - accuracy: 0.8591 - val_loss: 0.1993 - val_accuracy: 0.9390\n",
            "Epoch 3/12\n",
            "49/49 [==============================] - 38s 749ms/step - loss: 0.2120 - accuracy: 0.9225 - val_loss: 0.1029 - val_accuracy: 0.9710\n",
            "Epoch 4/12\n",
            "49/49 [==============================] - 39s 753ms/step - loss: 0.1634 - accuracy: 0.9349 - val_loss: 0.0798 - val_accuracy: 0.9724\n",
            "Epoch 5/12\n",
            "49/49 [==============================] - 37s 714ms/step - loss: 0.1259 - accuracy: 0.9526 - val_loss: 0.0792 - val_accuracy: 0.9710\n",
            "Epoch 6/12\n",
            "49/49 [==============================] - 37s 716ms/step - loss: 0.0964 - accuracy: 0.9670 - val_loss: 0.0941 - val_accuracy: 0.9695\n",
            "Epoch 7/12\n",
            "49/49 [==============================] - 36s 691ms/step - loss: 0.1119 - accuracy: 0.9584 - val_loss: 0.1077 - val_accuracy: 0.9579\n",
            "Epoch 8/12\n",
            "49/49 [==============================] - 41s 791ms/step - loss: 0.0872 - accuracy: 0.9653 - val_loss: 0.0899 - val_accuracy: 0.9739\n",
            "Epoch 9/12\n",
            "49/49 [==============================] - 39s 757ms/step - loss: 0.1281 - accuracy: 0.9549 - val_loss: 0.0573 - val_accuracy: 0.9840\n",
            "Epoch 10/12\n",
            "49/49 [==============================] - 37s 718ms/step - loss: 0.0836 - accuracy: 0.9703 - val_loss: 0.0973 - val_accuracy: 0.9666\n",
            "Epoch 11/12\n",
            "49/49 [==============================] - 37s 714ms/step - loss: 0.0999 - accuracy: 0.9620 - val_loss: 0.0712 - val_accuracy: 0.9739\n",
            "Epoch 12/12\n",
            "49/49 [==============================] - 37s 713ms/step - loss: 0.0647 - accuracy: 0.9763 - val_loss: 0.0592 - val_accuracy: 0.9681\n"
          ]
        }
      ]
    },
    {
      "cell_type": "markdown",
      "source": [
        "###Točnost modela"
      ],
      "metadata": {
        "id": "sRRSHXt7kViw"
      }
    },
    {
      "cell_type": "code",
      "source": [
        "print(\"Accuracy of model:\",model.evaluate(valid_ds))"
      ],
      "metadata": {
        "execution": {
          "iopub.status.busy": "2022-07-24T08:30:44.342369Z",
          "iopub.execute_input": "2022-07-24T08:30:44.343454Z",
          "iopub.status.idle": "2022-07-24T08:30:54.630984Z",
          "shell.execute_reply.started": "2022-07-24T08:30:44.343383Z",
          "shell.execute_reply": "2022-07-24T08:30:54.629315Z"
        },
        "trusted": true,
        "id": "XMAejUABkViw",
        "outputId": "5063f8cc-0bff-4eee-e9cc-2f78505fddfe",
        "colab": {
          "base_uri": "https://localhost:8080/"
        }
      },
      "execution_count": 23,
      "outputs": [
        {
          "output_type": "stream",
          "name": "stdout",
          "text": [
            "22/22 [==============================] - 3s 112ms/step - loss: 0.0592 - accuracy: 0.9681\n",
            "Accuracy of model: [0.05917586013674736, 0.9680696725845337]\n"
          ]
        }
      ]
    },
    {
      "cell_type": "markdown",
      "source": [
        "##Predviđanje"
      ],
      "metadata": {
        "id": "SoC8hkDAkViw"
      }
    },
    {
      "cell_type": "code",
      "source": [
        "SAMPLES_TO_DISPLAY = 10\n",
        "\n",
        "test_ds = paths_and_labels_to_dataset(valid_audio_paths, valid_labels)\n",
        "test_ds = test_ds.shuffle(buffer_size=batch_size * 8, seed=shuffle_seed).batch(\n",
        "    batch_size\n",
        ")\n",
        "\n",
        "test_ds = test_ds.map(lambda x, y: (add_noise(x, noises, scale=scale), y))\n",
        "\n",
        "for audios, labels in test_ds.take(1):\n",
        "    ffts = audio_to_fft(audios)\n",
        "    y_pred = model.predict(ffts)\n",
        "    rnd = np.random.randint(0, batch_size, SAMPLES_TO_DISPLAY)\n",
        "    audios = audios.numpy()[rnd, :, :]\n",
        "    labels = labels.numpy()[rnd]\n",
        "    y_pred = np.argmax(y_pred, axis=-1)[rnd]\n",
        "\n",
        "    for index in range(SAMPLES_TO_DISPLAY):\n",
        "        print(\n",
        "            \"Speaker:\\33{} {}\\33[0m\\tPredicted:\\33{} {}\\33[0m\".format(\n",
        "                \"[92m\" if labels[index] == y_pred[index] else \"[91m\",\n",
        "                class_names[labels[index]],\n",
        "                \"[92m\" if labels[index] == y_pred[index] else \"[91m\",\n",
        "                class_names[y_pred[index]],\n",
        "            )\n",
        "        )"
      ],
      "metadata": {
        "execution": {
          "iopub.status.busy": "2022-07-24T08:30:54.632531Z",
          "iopub.execute_input": "2022-07-24T08:30:54.632980Z",
          "iopub.status.idle": "2022-07-24T08:30:56.001022Z",
          "shell.execute_reply.started": "2022-07-24T08:30:54.632939Z",
          "shell.execute_reply": "2022-07-24T08:30:56.000275Z"
        },
        "trusted": true,
        "id": "9jEhh0fIkVix",
        "outputId": "cfa9c414-9e93-4bf5-8527-89ff015ae4de",
        "colab": {
          "base_uri": "https://localhost:8080/"
        }
      },
      "execution_count": 24,
      "outputs": [
        {
          "output_type": "stream",
          "name": "stdout",
          "text": [
            "4/4 [==============================] - 0s 43ms/step\n",
            "Speaker:\u001b[92m Magaret_Tarcher\u001b[0m\tPredicted:\u001b[92m Magaret_Tarcher\u001b[0m\n",
            "Speaker:\u001b[92m Nelson_Mandela\u001b[0m\tPredicted:\u001b[92m Nelson_Mandela\u001b[0m\n",
            "Speaker:\u001b[92m Jens_Stoltenberg\u001b[0m\tPredicted:\u001b[92m Jens_Stoltenberg\u001b[0m\n",
            "Speaker:\u001b[92m Julia_Gillard\u001b[0m\tPredicted:\u001b[92m Julia_Gillard\u001b[0m\n",
            "Speaker:\u001b[92m Jens_Stoltenberg\u001b[0m\tPredicted:\u001b[92m Jens_Stoltenberg\u001b[0m\n",
            "Speaker:\u001b[92m Jens_Stoltenberg\u001b[0m\tPredicted:\u001b[92m Jens_Stoltenberg\u001b[0m\n",
            "Speaker:\u001b[92m Benjamin_Netanyau\u001b[0m\tPredicted:\u001b[92m Benjamin_Netanyau\u001b[0m\n",
            "Speaker:\u001b[92m Jens_Stoltenberg\u001b[0m\tPredicted:\u001b[92m Jens_Stoltenberg\u001b[0m\n",
            "Speaker:\u001b[92m Julia_Gillard\u001b[0m\tPredicted:\u001b[92m Julia_Gillard\u001b[0m\n",
            "Speaker:\u001b[92m Magaret_Tarcher\u001b[0m\tPredicted:\u001b[92m Magaret_Tarcher\u001b[0m\n"
          ]
        }
      ]
    },
    {
      "cell_type": "markdown",
      "source": [
        "###Predviđanje govornika iz skupa podataka za treniranje za real-time predviđanje"
      ],
      "metadata": {
        "id": "uj7x13GGkVix"
      }
    },
    {
      "cell_type": "code",
      "source": [
        "def paths_to_dataset(audio_paths):\n",
        "    path_ds = tf.data.Dataset.from_tensor_slices(audio_paths)\n",
        "    return tf.data.Dataset.zip((path_ds))\n",
        "\n",
        "def predict(path, labels):\n",
        "    test = paths_and_labels_to_dataset(path, labels)\n",
        "\n",
        "\n",
        "    test = test.shuffle(buffer_size=batch_size * 8, seed=shuffle_seed).batch(\n",
        "    batch_size\n",
        "    )\n",
        "    test = test.prefetch(tf.data.experimental.AUTOTUNE)\n",
        "\n",
        "\n",
        "    test = test.map(lambda x, y: (add_noise(x, noises, scale=scale), y))\n",
        "\n",
        "    for audios, labels in test.take(1):\n",
        "        ffts = audio_to_fft(audios)\n",
        "        y_pred = model.predict(ffts)\n",
        "        rnd = np.random.randint(0, 1, 1)\n",
        "        audios = audios.numpy()[rnd, :]\n",
        "        labels = labels.numpy()[rnd]\n",
        "        y_pred = np.argmax(y_pred, axis=-1)[rnd]\n",
        "\n",
        "    for index in range(1):\n",
        "            print(\n",
        "            \"Speaker:\\33{} {}\\33[0m\\tPredicted:\\33{} {}\\33[0m\".format(\n",
        "            \"[92m\", class_names[y_pred[index]],\n",
        "            \"[92m\", class_names[y_pred[index]]\n",
        "              )\n",
        "            )"
      ],
      "metadata": {
        "execution": {
          "iopub.status.busy": "2022-07-24T08:30:56.004447Z",
          "iopub.execute_input": "2022-07-24T08:30:56.004649Z",
          "iopub.status.idle": "2022-07-24T08:30:56.013700Z",
          "shell.execute_reply.started": "2022-07-24T08:30:56.004624Z",
          "shell.execute_reply": "2022-07-24T08:30:56.013033Z"
        },
        "trusted": true,
        "id": "RR_v4G8gkVix"
      },
      "execution_count": 25,
      "outputs": []
    },
    {
      "cell_type": "code",
      "source": [
        "path = [\"/content/drive/MyDrive/SpeakerIdentification/16000_pcm_speeches/audio/Nelson_Mandela/1017.wav\"]\n",
        "labels = [\"unknown\"]\n",
        "try:\n",
        "    predict(path, labels)\n",
        "except:\n",
        "    print(\"Error! Check if the file correctly passed or not!\")"
      ],
      "metadata": {
        "execution": {
          "iopub.status.busy": "2022-07-24T08:30:56.015308Z",
          "iopub.execute_input": "2022-07-24T08:30:56.015990Z",
          "iopub.status.idle": "2022-07-24T08:30:56.431178Z",
          "shell.execute_reply.started": "2022-07-24T08:30:56.015951Z",
          "shell.execute_reply": "2022-07-24T08:30:56.430437Z"
        },
        "trusted": true,
        "id": "wDn-jvKukViy",
        "outputId": "83ed591a-10a7-46de-a874-f25622441fb3",
        "colab": {
          "base_uri": "https://localhost:8080/"
        }
      },
      "execution_count": 26,
      "outputs": [
        {
          "output_type": "stream",
          "name": "stdout",
          "text": [
            "1/1 [==============================] - 0s 202ms/step\n",
            "Speaker:\u001b[92m Nelson_Mandela\u001b[0m\tPredicted:\u001b[92m Nelson_Mandela\u001b[0m\n"
          ]
        }
      ]
    },
    {
      "cell_type": "code",
      "source": [],
      "metadata": {
        "id": "yvuRJoAikViz"
      },
      "execution_count": 26,
      "outputs": []
    }
  ]
}